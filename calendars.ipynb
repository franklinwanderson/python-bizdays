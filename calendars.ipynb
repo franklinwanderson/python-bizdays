{
 "cells": [
  {
   "cell_type": "markdown",
   "metadata": {},
   "source": [
    "# Calendars\n",
    "\n",
    "The `Calendar` can be built in three ways:\n",
    "\n",
    "- using the constructor `Calendar` passing the arguments\n",
    "- with the `Calendar.load(filename)` passing a file that describes a valid calendar\n",
    "\n",
    "The file describing the calendar is a text file with the weekdays and holidays that represents the nonworking days."
   ]
  },
  {
   "cell_type": "code",
   "execution_count": 1,
   "metadata": {},
   "outputs": [
    {
     "name": "stdout",
     "output_type": "stream",
     "text": [
      "Saturday\n",
      "Sunday\n",
      "2001-01-01\n",
      "2002-01-01\n",
      "2012-12-25\n",
      "2013-01-01\n"
     ]
    }
   ],
   "source": [
    "! type Test.cal"
   ]
  },
  {
   "cell_type": "markdown",
   "metadata": {},
   "source": [
    "Here Saturday and Sunday are nonworking week days and the other lines bring the holidays."
   ]
  },
  {
   "cell_type": "code",
   "execution_count": 2,
   "metadata": {},
   "outputs": [
    {
     "data": {
      "text/plain": [
       "Calendar: Test\n",
       "Start: 2001-01-01\n",
       "End: 2013-01-01\n",
       "Weekdays: Saturday, Sunday\n",
       "Holidays: 4\n",
       "Financial: True"
      ]
     },
     "execution_count": 2,
     "metadata": {},
     "output_type": "execute_result"
    }
   ],
   "source": [
    "from bizdays import Calendar\n",
    "\n",
    "cal = Calendar.load(filename='Test.cal')\n",
    "cal"
   ]
  },
  {
   "cell_type": "markdown",
   "metadata": {},
   "source": [
    "`Calendar` can be called with no arguments and it returns a calendar without nonworking days."
   ]
  },
  {
   "cell_type": "code",
   "execution_count": 3,
   "metadata": {},
   "outputs": [
    {
     "data": {
      "text/plain": [
       "Calendar: None\n",
       "Start: 1970-01-01\n",
       "End: 2071-01-01\n",
       "Weekdays: \n",
       "Holidays: 0\n",
       "Financial: True"
      ]
     },
     "execution_count": 3,
     "metadata": {},
     "output_type": "execute_result"
    }
   ],
   "source": [
    "Calendar()"
   ]
  },
  {
   "cell_type": "markdown",
   "metadata": {},
   "source": [
    "Naming the calendar is a good idea."
   ]
  },
  {
   "cell_type": "code",
   "execution_count": 4,
   "metadata": {},
   "outputs": [
    {
     "data": {
      "text/plain": [
       "Calendar: actual\n",
       "Start: 1970-01-01\n",
       "End: 2071-01-01\n",
       "Weekdays: \n",
       "Holidays: 0\n",
       "Financial: True"
      ]
     },
     "execution_count": 4,
     "metadata": {},
     "output_type": "execute_result"
    }
   ],
   "source": [
    "Calendar(name='actual')"
   ]
  },
  {
   "cell_type": "markdown",
   "metadata": {},
   "source": [
    "## Financial Calendars\n",
    "\n",
    "`bizdays` was designed to be used with financial calculations, for this reason all calendars are financial by default.\n",
    "\n",
    "In finance, the amount of business days between two consecutive dates is 1, which indicates one day of compounding interest rates.\n",
    "\n",
    "For example."
   ]
  },
  {
   "cell_type": "code",
   "execution_count": 5,
   "metadata": {},
   "outputs": [
    {
     "data": {
      "text/plain": [
       "1"
      ]
     },
     "execution_count": 5,
     "metadata": {},
     "output_type": "execute_result"
    }
   ],
   "source": [
    "cal = Calendar()\n",
    "cal.bizdays('2021-01-01', '2021-01-02')"
   ]
  },
  {
   "cell_type": "markdown",
   "metadata": {},
   "source": [
    "For this calendar both dates are business days, but the return is one business day.\n",
    "\n",
    "This behavior can changed by setting the attribute `financial` to `False`."
   ]
  },
  {
   "cell_type": "code",
   "execution_count": 6,
   "metadata": {},
   "outputs": [
    {
     "data": {
      "text/plain": [
       "2"
      ]
     },
     "execution_count": 6,
     "metadata": {},
     "output_type": "execute_result"
    }
   ],
   "source": [
    "cal.financial = False\n",
    "cal.bizdays('2021-01-01', '2021-01-02')"
   ]
  }
 ],
 "metadata": {
  "interpreter": {
   "hash": "4e6da9785688dca07ac236f8ec5f7e99c2c01a8eecf30ede8ddadf573b26e527"
  },
  "kernelspec": {
   "display_name": "Python 3",
   "language": "python",
   "name": "python3"
  },
  "language_info": {
   "codemirror_mode": {
    "name": "ipython",
    "version": 3
   },
   "file_extension": ".py",
   "mimetype": "text/x-python",
   "name": "python",
   "nbconvert_exporter": "python",
   "pygments_lexer": "ipython3",
   "version": "3.7.6"
  }
 },
 "nbformat": 4,
 "nbformat_minor": 2
}
